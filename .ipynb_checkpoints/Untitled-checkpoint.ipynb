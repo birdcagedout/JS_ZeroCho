{
 "cells": [
  {
   "cell_type": "code",
   "execution_count": 1,
   "id": "3653c26c-8457-4951-872d-aa5ff9860534",
   "metadata": {},
   "outputs": [],
   "source": [
    "const arr = [1,2,3,4,5];"
   ]
  },
  {
   "cell_type": "code",
   "execution_count": 2,
   "id": "579c01c8-4b12-46fe-ab78-7c2a0315b460",
   "metadata": {},
   "outputs": [
    {
     "data": {
      "text/plain": [
       "[ 1, 2, 3, 4, 5 ]"
      ]
     },
     "execution_count": 2,
     "metadata": {},
     "output_type": "execute_result"
    }
   ],
   "source": [
    "arr"
   ]
  },
  {
   "cell_type": "code",
   "execution_count": 3,
   "id": "741cd9c5-44eb-4e75-b2a5-d4120cad0212",
   "metadata": {},
   "outputs": [
    {
     "ename": "TypeError",
     "evalue": "Assignment to constant variable.",
     "execution_count": 3,
     "output_type": "error",
     "traceback": [
      "evalmachine.<anonymous>:1",
      "arr = ['a', 'b'];",
      "    ^",
      "",
      "TypeError: Assignment to constant variable.",
      "    at evalmachine.<anonymous>:1:5",
      "    at Script.runInThisContext (node:vm:121:12)",
      "    at Object.runInThisContext (node:vm:303:38)",
      "    at run ([eval]:1020:15)",
      "    at onRunRequest ([eval]:864:18)",
      "    at onMessage ([eval]:828:13)",
      "    at process.emit (node:events:518:28)",
      "    at emit (node:internal/child_process:951:14)",
      "    at process.processTicksAndRejections (node:internal/process/task_queues:83:21)"
     ]
    }
   ],
   "source": [
    "arr = ['a', 'b'];"
   ]
  },
  {
   "cell_type": "code",
   "execution_count": 4,
   "id": "f0dcc571-35e5-4a7f-9ddb-a4c8569f5f60",
   "metadata": {},
   "outputs": [
    {
     "data": {
      "text/plain": [
       "'a'"
      ]
     },
     "execution_count": 4,
     "metadata": {},
     "output_type": "execute_result"
    }
   ],
   "source": [
    "arr[0] = 'a';"
   ]
  },
  {
   "cell_type": "code",
   "execution_count": 5,
   "id": "d87e8430-9257-4f2f-8331-4455c58cbaa8",
   "metadata": {},
   "outputs": [
    {
     "data": {
      "text/plain": [
       "[ 'a', 2, 3, 4, 5 ]"
      ]
     },
     "execution_count": 5,
     "metadata": {},
     "output_type": "execute_result"
    }
   ],
   "source": [
    "arr"
   ]
  },
  {
   "cell_type": "code",
   "execution_count": 6,
   "id": "966855e6-d3a8-4151-9735-cf8180ba8db8",
   "metadata": {},
   "outputs": [
    {
     "data": {
      "text/plain": [
       "5"
      ]
     },
     "execution_count": 6,
     "metadata": {},
     "output_type": "execute_result"
    }
   ],
   "source": [
    "arr.pop()"
   ]
  },
  {
   "cell_type": "code",
   "execution_count": 7,
   "id": "70a716b0-dd60-44ff-ab74-3c4e3d8db250",
   "metadata": {},
   "outputs": [
    {
     "data": {
      "text/plain": [
       "[ 'a', 2, 3, 4 ]"
      ]
     },
     "execution_count": 7,
     "metadata": {},
     "output_type": "execute_result"
    }
   ],
   "source": [
    "arr"
   ]
  },
  {
   "cell_type": "code",
   "execution_count": 8,
   "id": "c2bc9ddf-5907-4f96-a93c-8965ad3f59b5",
   "metadata": {},
   "outputs": [
    {
     "data": {
      "text/plain": [
       "'a'"
      ]
     },
     "execution_count": 8,
     "metadata": {},
     "output_type": "execute_result"
    }
   ],
   "source": [
    "arr.shift();"
   ]
  },
  {
   "cell_type": "code",
   "execution_count": 9,
   "id": "2e32b24d-8ae2-41e1-adfd-3515cced417c",
   "metadata": {},
   "outputs": [
    {
     "data": {
      "text/plain": [
       "[ 2, 3, 4 ]"
      ]
     },
     "execution_count": 9,
     "metadata": {},
     "output_type": "execute_result"
    }
   ],
   "source": [
    "arr;"
   ]
  },
  {
   "cell_type": "code",
   "execution_count": 10,
   "id": "4b3631c6-25fb-448b-9bf1-99c6bc07842e",
   "metadata": {},
   "outputs": [
    {
     "data": {
      "text/plain": [
       "4"
      ]
     },
     "execution_count": 10,
     "metadata": {},
     "output_type": "execute_result"
    }
   ],
   "source": [
    "arr.unshift(10);"
   ]
  },
  {
   "cell_type": "code",
   "execution_count": null,
   "id": "0ec6d974-ce81-4632-a75c-8567ae8e30ca",
   "metadata": {},
   "outputs": [],
   "source": [
    "arr.unshif"
   ]
  }
 ],
 "metadata": {
  "kernelspec": {
   "display_name": "JavaScript (Node.js)",
   "language": "javascript",
   "name": "javascript"
  },
  "language_info": {
   "file_extension": ".js",
   "mimetype": "application/javascript",
   "name": "javascript",
   "version": "20.11.1"
  }
 },
 "nbformat": 4,
 "nbformat_minor": 5
}
