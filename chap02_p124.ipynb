{
 "cells": [
  {
   "cell_type": "code",
   "execution_count": 1,
   "id": "3653c26c-8457-4951-872d-aa5ff9860534",
   "metadata": {},
   "outputs": [],
   "source": [
    "const arr = [1,2,3,4,5];"
   ]
  },
  {
   "cell_type": "code",
   "execution_count": 2,
   "id": "579c01c8-4b12-46fe-ab78-7c2a0315b460",
   "metadata": {},
   "outputs": [
    {
     "data": {
      "text/plain": [
       "[ 1, 2, 3, 4, 5 ]"
      ]
     },
     "execution_count": 2,
     "metadata": {},
     "output_type": "execute_result"
    }
   ],
   "source": [
    "arr"
   ]
  },
  {
   "cell_type": "code",
   "execution_count": 3,
   "id": "741cd9c5-44eb-4e75-b2a5-d4120cad0212",
   "metadata": {},
   "outputs": [
    {
     "ename": "TypeError",
     "evalue": "Assignment to constant variable.",
     "output_type": "error",
     "traceback": [
      "evalmachine.<anonymous>:2",
      "arr = ['a', 'b'];",
      "    ^",
      "",
      "TypeError: Assignment to constant variable.",
      "    at evalmachine.<anonymous>:2:5",
      "    at Script.runInThisContext (node:vm:121:12)",
      "    at Object.runInThisContext (node:vm:303:38)",
      "    at run ([eval]:1020:15)",
      "    at onRunRequest ([eval]:864:18)",
      "    at onMessage ([eval]:828:13)",
      "    at process.emit (node:events:518:28)",
      "    at emit (node:internal/child_process:951:14)",
      "    at process.processTicksAndRejections (node:internal/process/task_queues:83:21)"
     ]
    }
   ],
   "source": [
    "// const에 재할당은 에러\n",
    "arr = ['a', 'b'];"
   ]
  },
  {
   "cell_type": "code",
   "execution_count": 4,
   "id": "f0dcc571-35e5-4a7f-9ddb-a4c8569f5f60",
   "metadata": {},
   "outputs": [
    {
     "data": {
      "text/plain": [
       "'a'"
      ]
     },
     "execution_count": 4,
     "metadata": {},
     "output_type": "execute_result"
    }
   ],
   "source": [
    "// 하지만, const라도 요소(배열)나 속성(객체)인 경우는 재할당 가능\n",
    "arr[0] = 'a';"
   ]
  },
  {
   "cell_type": "code",
   "execution_count": 5,
   "id": "d87e8430-9257-4f2f-8331-4455c58cbaa8",
   "metadata": {},
   "outputs": [
    {
     "data": {
      "text/plain": [
       "[ 'a', 2, 3, 4, 5 ]"
      ]
     },
     "execution_count": 5,
     "metadata": {},
     "output_type": "execute_result"
    }
   ],
   "source": [
    "arr"
   ]
  },
  {
   "cell_type": "code",
   "execution_count": 6,
   "id": "7aa238f6",
   "metadata": {},
   "outputs": [],
   "source": [
    "const obj = {name: \"Kim\", age: 45};"
   ]
  },
  {
   "cell_type": "code",
   "execution_count": 7,
   "id": "2a965b29",
   "metadata": {},
   "outputs": [
    {
     "data": {
      "text/plain": [
       "{ name: 'Kim', age: 45 }"
      ]
     },
     "execution_count": 7,
     "metadata": {},
     "output_type": "execute_result"
    }
   ],
   "source": [
    "obj;"
   ]
  },
  {
   "cell_type": "code",
   "execution_count": 8,
   "id": "58902f76",
   "metadata": {},
   "outputs": [
    {
     "ename": "TypeError",
     "evalue": "Assignment to constant variable.",
     "output_type": "error",
     "traceback": [
      "evalmachine.<anonymous>:2",
      "obj = {name: \"Lee\", age: 100};",
      "    ^",
      "",
      "TypeError: Assignment to constant variable.",
      "    at evalmachine.<anonymous>:2:5",
      "    at Script.runInThisContext (node:vm:121:12)",
      "    at Object.runInThisContext (node:vm:303:38)",
      "    at run ([eval]:1020:15)",
      "    at onRunRequest ([eval]:864:18)",
      "    at onMessage ([eval]:828:13)",
      "    at process.emit (node:events:518:28)",
      "    at emit (node:internal/child_process:951:14)",
      "    at process.processTicksAndRejections (node:internal/process/task_queues:83:21)"
     ]
    }
   ],
   "source": [
    "// const 객체에 새로운 객체 할당 에러\n",
    "obj = {name: \"Lee\", age: 100};"
   ]
  },
  {
   "cell_type": "code",
   "execution_count": 9,
   "id": "789fdcbd",
   "metadata": {},
   "outputs": [
    {
     "data": {
      "text/plain": [
       "'Lee'"
      ]
     },
     "execution_count": 9,
     "metadata": {},
     "output_type": "execute_result"
    }
   ],
   "source": [
    "// const 객체의 속성은 변경 가능\n",
    "obj.name = \"Lee\";"
   ]
  },
  {
   "cell_type": "code",
   "execution_count": 10,
   "id": "98b6b55c",
   "metadata": {},
   "outputs": [
    {
     "data": {
      "text/plain": [
       "{ name: 'Lee', age: 45 }"
      ]
     },
     "execution_count": 10,
     "metadata": {},
     "output_type": "execute_result"
    }
   ],
   "source": [
    "obj;"
   ]
  },
  {
   "cell_type": "code",
   "execution_count": 11,
   "id": "49ed973f",
   "metadata": {},
   "outputs": [
    {
     "data": {
      "text/plain": [
       "[ 'a', 2, 3, 4, 5 ]"
      ]
     },
     "execution_count": 11,
     "metadata": {},
     "output_type": "execute_result"
    }
   ],
   "source": [
    "arr"
   ]
  },
  {
   "cell_type": "code",
   "execution_count": 12,
   "id": "966855e6-d3a8-4151-9735-cf8180ba8db8",
   "metadata": {},
   "outputs": [
    {
     "data": {
      "text/plain": [
       "5"
      ]
     },
     "execution_count": 12,
     "metadata": {},
     "output_type": "execute_result"
    }
   ],
   "source": [
    "arr.pop()"
   ]
  },
  {
   "cell_type": "code",
   "execution_count": 13,
   "id": "70a716b0-dd60-44ff-ab74-3c4e3d8db250",
   "metadata": {},
   "outputs": [
    {
     "data": {
      "text/plain": [
       "[ 'a', 2, 3, 4 ]"
      ]
     },
     "execution_count": 13,
     "metadata": {},
     "output_type": "execute_result"
    }
   ],
   "source": [
    "arr"
   ]
  },
  {
   "cell_type": "code",
   "execution_count": 14,
   "id": "c2bc9ddf-5907-4f96-a93c-8965ad3f59b5",
   "metadata": {},
   "outputs": [
    {
     "data": {
      "text/plain": [
       "'a'"
      ]
     },
     "execution_count": 14,
     "metadata": {},
     "output_type": "execute_result"
    }
   ],
   "source": [
    "// shift는 왼쪽 밀어내기(첫번째 요소 삭제)\n",
    "arr.shift();"
   ]
  },
  {
   "cell_type": "code",
   "execution_count": 15,
   "id": "2e32b24d-8ae2-41e1-adfd-3515cced417c",
   "metadata": {},
   "outputs": [
    {
     "data": {
      "text/plain": [
       "[ 2, 3, 4 ]"
      ]
     },
     "execution_count": 15,
     "metadata": {},
     "output_type": "execute_result"
    }
   ],
   "source": [
    "arr;"
   ]
  },
  {
   "cell_type": "code",
   "execution_count": 16,
   "id": "4b3631c6-25fb-448b-9bf1-99c6bc07842e",
   "metadata": {},
   "outputs": [
    {
     "data": {
      "text/plain": [
       "4"
      ]
     },
     "execution_count": 16,
     "metadata": {},
     "output_type": "execute_result"
    }
   ],
   "source": [
    "// unshift는 오른쪽 밀어내기(첫번째 요소 추가)\n",
    "arr.unshift(10);"
   ]
  },
  {
   "cell_type": "code",
   "execution_count": 17,
   "id": "a079dcf8",
   "metadata": {},
   "outputs": [
    {
     "data": {
      "text/plain": [
       "[ 10, 2, 3, 4 ]"
      ]
     },
     "execution_count": 17,
     "metadata": {},
     "output_type": "execute_result"
    }
   ],
   "source": [
    "arr;"
   ]
  },
  {
   "cell_type": "markdown",
   "id": "f9d9d852",
   "metadata": {},
   "source": [
    "## splice"
   ]
  },
  {
   "cell_type": "code",
   "execution_count": 18,
   "id": "7308ea2f",
   "metadata": {},
   "outputs": [
    {
     "data": {
      "text/plain": [
       "[\n",
       "  1, 2, 3, 4,  5,\n",
       "  6, 7, 8, 9, 10\n",
       "]"
      ]
     },
     "execution_count": 18,
     "metadata": {},
     "output_type": "execute_result"
    }
   ],
   "source": [
    "// arr = [1,2,3,...,10] 초기화\n",
    "for(let i=0; i < 10; i++) {\n",
    "\tarr[i] = i+1;\n",
    "}\n",
    "arr;"
   ]
  },
  {
   "cell_type": "markdown",
   "id": "dbcf8b40",
   "metadata": {},
   "source": [
    "#### 1) splice(인덱스, 삭제개수)"
   ]
  },
  {
   "cell_type": "code",
   "execution_count": 19,
   "id": "bdc20bcb",
   "metadata": {},
   "outputs": [
    {
     "data": {
      "text/plain": [
       "[ 2, 3 ]"
      ]
     },
     "execution_count": 19,
     "metadata": {},
     "output_type": "execute_result"
    }
   ],
   "source": [
    "// index=1인 요소부터 2개 삭제\n",
    "// 리턴값: [2, 3]\n",
    "// arr: [1, 4, 5,..., 10]\n",
    "arr.splice(1, 2);"
   ]
  },
  {
   "cell_type": "code",
   "execution_count": 20,
   "id": "74d07dd8",
   "metadata": {},
   "outputs": [
    {
     "data": {
      "text/plain": [
       "[\n",
       "  1, 4, 5,  6,\n",
       "  7, 8, 9, 10\n",
       "]"
      ]
     },
     "execution_count": 20,
     "metadata": {},
     "output_type": "execute_result"
    }
   ],
   "source": [
    "arr"
   ]
  },
  {
   "cell_type": "markdown",
   "id": "5e694e66",
   "metadata": {},
   "source": [
    "#### 2) splice(끝까지 삭제할 배열의 시작 인덱스)"
   ]
  },
  {
   "cell_type": "code",
   "execution_count": 21,
   "id": "de3b8fe4",
   "metadata": {},
   "outputs": [
    {
     "data": {
      "text/plain": [
       "[ 7, 8, 9, 10 ]"
      ]
     },
     "execution_count": 21,
     "metadata": {},
     "output_type": "execute_result"
    }
   ],
   "source": [
    "// 리턴값: [7, 8, 9, 10]\n",
    "// arr: [1, 4, 5, 6]\n",
    "arr.splice(4);"
   ]
  },
  {
   "cell_type": "code",
   "execution_count": 22,
   "id": "52eb0638",
   "metadata": {},
   "outputs": [
    {
     "data": {
      "text/plain": [
       "[ 1, 4, 5, 6 ]"
      ]
     },
     "execution_count": 22,
     "metadata": {},
     "output_type": "execute_result"
    }
   ],
   "source": [
    "arr"
   ]
  },
  {
   "cell_type": "markdown",
   "id": "b83d414a",
   "metadata": {},
   "source": [
    "#### 3) splice(시작 인덱스, 삭제할 개수, 새요소1, 새요소2, ...)"
   ]
  },
  {
   "cell_type": "code",
   "execution_count": 23,
   "id": "42334dd3",
   "metadata": {},
   "outputs": [
    {
     "data": {
      "text/plain": [
       "[ 4, 5 ]"
      ]
     },
     "execution_count": 23,
     "metadata": {},
     "output_type": "execute_result"
    }
   ],
   "source": [
    "// 1번 인덱스부터 2개를 삭제([4,5] 삭제) 후 \"A\", \"B\"를 추가 \n",
    "// 리턴값: [4, 5]\n",
    "// arr: [1, \"A\", \"B\", 6]\n",
    "arr.splice(1, 2, \"A\", \"B\");"
   ]
  },
  {
   "cell_type": "code",
   "execution_count": 24,
   "id": "5e1633f4",
   "metadata": {},
   "outputs": [
    {
     "data": {
      "text/plain": [
       "[ 1, 'A', 'B', 6 ]"
      ]
     },
     "execution_count": 24,
     "metadata": {},
     "output_type": "execute_result"
    }
   ],
   "source": [
    "arr"
   ]
  },
  {
   "cell_type": "markdown",
   "id": "91703225",
   "metadata": {},
   "source": [
    "#### 3번 응용) splice(시작 인덱스, 0, 새요소1, 새요소2, ...)"
   ]
  },
  {
   "cell_type": "code",
   "execution_count": 25,
   "id": "2dccc364",
   "metadata": {},
   "outputs": [
    {
     "data": {
      "text/plain": [
       "[]"
      ]
     },
     "execution_count": 25,
     "metadata": {},
     "output_type": "execute_result"
    }
   ],
   "source": [
    "// 3번째 인덱스 위치(6이 있는 자리)에 새요소 4개 추가\n",
    "arr.splice(3, 0, \"C\", \"D\", \"E\", \"F\");"
   ]
  },
  {
   "cell_type": "code",
   "execution_count": 26,
   "id": "6f99dfd8",
   "metadata": {},
   "outputs": [
    {
     "data": {
      "text/plain": [
       "[\n",
       "  1,   'A', 'B', 'C',\n",
       "  'D', 'E', 'F', 6\n",
       "]"
      ]
     },
     "execution_count": 26,
     "metadata": {},
     "output_type": "execute_result"
    }
   ],
   "source": [
    "arr"
   ]
  },
  {
   "cell_type": "markdown",
   "id": "e83de1d8",
   "metadata": {},
   "source": [
    "### 변수는 지울 수 없다"
   ]
  },
  {
   "cell_type": "code",
   "execution_count": 27,
   "id": "73c0c184",
   "metadata": {},
   "outputs": [
    {
     "data": {
      "text/plain": [
       "true"
      ]
     },
     "execution_count": 27,
     "metadata": {},
     "output_type": "execute_result"
    }
   ],
   "source": [
    "// true로 나오지만 지워지지 않는다\n",
    "delete global.arr;"
   ]
  },
  {
   "cell_type": "code",
   "execution_count": 28,
   "id": "98a07ede",
   "metadata": {},
   "outputs": [
    {
     "data": {
      "text/plain": [
       "[\n",
       "  1,   'A', 'B', 'C',\n",
       "  'D', 'E', 'F', 6\n",
       "]"
      ]
     },
     "execution_count": 28,
     "metadata": {},
     "output_type": "execute_result"
    }
   ],
   "source": [
    "arr"
   ]
  },
  {
   "cell_type": "markdown",
   "id": "d4ab78b2",
   "metadata": {},
   "source": [
    "### 요소 찾기(includes, indexOf, lastIndexOf)"
   ]
  },
  {
   "cell_type": "code",
   "execution_count": 29,
   "id": "df285e53",
   "metadata": {},
   "outputs": [],
   "source": [
    "// arr2 = [1,2,3,4,5, 5,4,3,2,1]로 초기화\n",
    "const arr2 = [1,2,3,4,5, 5,4,3,2,1];"
   ]
  },
  {
   "cell_type": "code",
   "execution_count": 30,
   "id": "870c98be",
   "metadata": {},
   "outputs": [
    {
     "data": {
      "text/plain": [
       "[\n",
       "  1, 2, 3, 4, 5,\n",
       "  5, 4, 3, 2, 1\n",
       "]"
      ]
     },
     "execution_count": 30,
     "metadata": {},
     "output_type": "execute_result"
    }
   ],
   "source": [
    "arr2"
   ]
  },
  {
   "cell_type": "code",
   "execution_count": 31,
   "id": "1e09a7d2",
   "metadata": {},
   "outputs": [
    {
     "data": {
      "text/plain": [
       "1"
      ]
     },
     "execution_count": 31,
     "metadata": {},
     "output_type": "execute_result"
    }
   ],
   "source": [
    "arr2.indexOf(2);"
   ]
  },
  {
   "cell_type": "code",
   "execution_count": 32,
   "id": "e8f7ae4b",
   "metadata": {},
   "outputs": [
    {
     "data": {
      "text/plain": [
       "8"
      ]
     },
     "execution_count": 32,
     "metadata": {},
     "output_type": "execute_result"
    }
   ],
   "source": [
    "// 끝에서 2를 찾으면 인덱스는 8이다(끝에서 찾는다고 인덱스가 -2 아님에 주의)\n",
    "arr2.lastIndexOf(2);"
   ]
  },
  {
   "cell_type": "code",
   "execution_count": 33,
   "id": "31501abc",
   "metadata": {},
   "outputs": [
    {
     "data": {
      "text/plain": [
       "true"
      ]
     },
     "execution_count": 33,
     "metadata": {},
     "output_type": "execute_result"
    }
   ],
   "source": [
    "arr2.includes(5);"
   ]
  },
  {
   "cell_type": "code",
   "execution_count": 34,
   "id": "14a0641d",
   "metadata": {},
   "outputs": [
    {
     "data": {
      "text/plain": [
       "false"
      ]
     },
     "execution_count": 34,
     "metadata": {},
     "output_type": "execute_result"
    }
   ],
   "source": [
    "// 없으면 false\n",
    "arr2.includes('a');"
   ]
  },
  {
   "cell_type": "code",
   "execution_count": 35,
   "id": "80c3bbfd",
   "metadata": {},
   "outputs": [
    {
     "data": {
      "text/plain": [
       "2"
      ]
     },
     "execution_count": 35,
     "metadata": {},
     "output_type": "execute_result"
    }
   ],
   "source": [
    "// 있으면 인덱스(0이상 정수)\n",
    "arr2.indexOf(3);"
   ]
  },
  {
   "cell_type": "code",
   "execution_count": 36,
   "id": "49af3bbe",
   "metadata": {},
   "outputs": [
    {
     "data": {
      "text/plain": [
       "-1"
      ]
     },
     "execution_count": 36,
     "metadata": {},
     "output_type": "execute_result"
    }
   ],
   "source": [
    "// 없으면 -1\n",
    "arr2.indexOf('b');"
   ]
  },
  {
   "cell_type": "markdown",
   "id": "84d915ff",
   "metadata": {},
   "source": [
    "### slice: 자르기(잘라진 결과값을 리턴받음, 원본은 불변)"
   ]
  },
  {
   "cell_type": "code",
   "execution_count": 37,
   "id": "307e112c",
   "metadata": {},
   "outputs": [
    {
     "data": {
      "text/plain": [
       "[\n",
       "  1, 2, 3, 4,  5,\n",
       "  6, 7, 8, 9, 10\n",
       "]"
      ]
     },
     "execution_count": 37,
     "metadata": {},
     "output_type": "execute_result"
    }
   ],
   "source": [
    "const arr3 = [1,2,3,4,5,6,7,8,9,10];\n",
    "arr3"
   ]
  },
  {
   "cell_type": "markdown",
   "id": "df40a8ec",
   "metadata": {},
   "source": [
    "#### 1) slice(시작인덱스) ==> 시작인덱스 포함 끝까지를 리턴"
   ]
  },
  {
   "cell_type": "code",
   "execution_count": 38,
   "id": "9bf5bde4",
   "metadata": {},
   "outputs": [],
   "source": [
    "// 리턴값: [4, 5, ..., 10]\n",
    "// 원본은 그대로\n",
    "var arr4 = arr3.slice(3);"
   ]
  },
  {
   "cell_type": "code",
   "execution_count": 39,
   "id": "a158c8a5",
   "metadata": {},
   "outputs": [
    {
     "data": {
      "text/plain": [
       "[\n",
       "  4, 5,  6, 7,\n",
       "  8, 9, 10\n",
       "]"
      ]
     },
     "execution_count": 39,
     "metadata": {},
     "output_type": "execute_result"
    }
   ],
   "source": [
    "arr4"
   ]
  },
  {
   "cell_type": "code",
   "execution_count": 40,
   "id": "a486e92f",
   "metadata": {},
   "outputs": [
    {
     "data": {
      "text/plain": [
       "[\n",
       "  1, 2, 3, 4,  5,\n",
       "  6, 7, 8, 9, 10\n",
       "]"
      ]
     },
     "execution_count": 40,
     "metadata": {},
     "output_type": "execute_result"
    }
   ],
   "source": [
    "arr3"
   ]
  },
  {
   "cell_type": "code",
   "execution_count": 41,
   "id": "da6f9e44",
   "metadata": {},
   "outputs": [
    {
     "data": {
      "text/plain": [
       "[\n",
       "  1, 2, 3, 4,  5,\n",
       "  6, 7, 8, 9, 10\n",
       "]"
      ]
     },
     "execution_count": 41,
     "metadata": {},
     "output_type": "execute_result"
    }
   ],
   "source": [
    "// 시작인덱스를 지정하지 않으면 모든 값\n",
    "arr3.slice()"
   ]
  },
  {
   "cell_type": "markdown",
   "id": "7fb5e9ab",
   "metadata": {},
   "source": [
    "#### 2) slice(시작인덱스, 종료인덱스) ==> 종료인덱스는 포함X"
   ]
  },
  {
   "cell_type": "code",
   "execution_count": 42,
   "id": "f1bff0ee",
   "metadata": {},
   "outputs": [],
   "source": [
    "var arr5 = arr3.slice(3, 5);"
   ]
  },
  {
   "cell_type": "code",
   "execution_count": 43,
   "id": "f6cbe641",
   "metadata": {},
   "outputs": [
    {
     "data": {
      "text/plain": [
       "[ 4, 5 ]"
      ]
     },
     "execution_count": 43,
     "metadata": {},
     "output_type": "execute_result"
    }
   ],
   "source": [
    "arr5;"
   ]
  },
  {
   "cell_type": "code",
   "execution_count": 44,
   "id": "bcdc158c",
   "metadata": {},
   "outputs": [
    {
     "data": {
      "text/plain": [
       "[\n",
       "  1, 2, 3, 4,  5,\n",
       "  6, 7, 8, 9, 10\n",
       "]"
      ]
     },
     "execution_count": 44,
     "metadata": {},
     "output_type": "execute_result"
    }
   ],
   "source": [
    "arr3;"
   ]
  },
  {
   "cell_type": "markdown",
   "id": "965a88c6",
   "metadata": {},
   "source": [
    "### 합치기: concat(배열또는값1, 배열또는값2, ...)"
   ]
  },
  {
   "cell_type": "code",
   "execution_count": 45,
   "id": "51cd976b",
   "metadata": {},
   "outputs": [
    {
     "data": {
      "text/plain": [
       "[\n",
       "  1, 2, 3, 4,  5,\n",
       "  6, 7, 8, 9, 10\n",
       "]"
      ]
     },
     "execution_count": 45,
     "metadata": {},
     "output_type": "execute_result"
    }
   ],
   "source": [
    "for(let i = 0; i < 10; i++) {\n",
    "\tarr3[i] = i + 1;\n",
    "}\n",
    "arr3;"
   ]
  },
  {
   "cell_type": "code",
   "execution_count": 46,
   "id": "244fb419",
   "metadata": {},
   "outputs": [
    {
     "data": {
      "text/plain": [
       "[\n",
       "  10, 9, 8, 7, 6,\n",
       "   5, 4, 3, 2, 1\n",
       "]"
      ]
     },
     "execution_count": 46,
     "metadata": {},
     "output_type": "execute_result"
    }
   ],
   "source": [
    "// toReversed()는 원본을 보존한다 <-- reverse()와의 차이\n",
    "arr3.toReversed()"
   ]
  },
  {
   "cell_type": "code",
   "execution_count": 47,
   "id": "a92527bf",
   "metadata": {},
   "outputs": [
    {
     "data": {
      "text/plain": [
       "[\n",
       "  1, 2, 3, 4,  5,\n",
       "  6, 7, 8, 9, 10\n",
       "]"
      ]
     },
     "execution_count": 47,
     "metadata": {},
     "output_type": "execute_result"
    }
   ],
   "source": [
    "arr3"
   ]
  },
  {
   "cell_type": "code",
   "execution_count": 48,
   "id": "95d624e4",
   "metadata": {},
   "outputs": [
    {
     "data": {
      "text/plain": [
       "[\n",
       "  10, 9, 8, 7, 6,\n",
       "   5, 4, 3, 2, 1\n",
       "]"
      ]
     },
     "execution_count": 48,
     "metadata": {},
     "output_type": "execute_result"
    }
   ],
   "source": [
    "var arr4 = arr3.toReversed();\n",
    "arr4;"
   ]
  },
  {
   "cell_type": "code",
   "execution_count": 49,
   "id": "9b2f028a",
   "metadata": {},
   "outputs": [
    {
     "data": {
      "text/plain": [
       "'1,2,3,4,5,6,7,8,9,1010,9,8,7,6,5,4,3,2,1'"
      ]
     },
     "execution_count": 49,
     "metadata": {},
     "output_type": "execute_result"
    }
   ],
   "source": [
    "// 배열은 + 연산자로 합칠 수 없다!! ==> 그래서 concat() 필요!!\n",
    "var arr5 = arr3 + arr4;\n",
    "arr5;"
   ]
  },
  {
   "cell_type": "code",
   "execution_count": 50,
   "id": "5e86bc3e",
   "metadata": {},
   "outputs": [
    {
     "data": {
      "text/plain": [
       "[\n",
       "  1, 2,  3,  4, 5, 6, 7,\n",
       "  8, 9, 10, 10, 9, 8, 7,\n",
       "  6, 5,  4,  3, 2, 1\n",
       "]"
      ]
     },
     "execution_count": 50,
     "metadata": {},
     "output_type": "execute_result"
    }
   ],
   "source": [
    "arr5 = arr3.concat(arr4);\n",
    "arr5;"
   ]
  },
  {
   "cell_type": "code",
   "execution_count": 51,
   "id": "2d47ad87",
   "metadata": {},
   "outputs": [
    {
     "data": {
      "text/plain": [
       "[\n",
       "  1,   2,   3, 4, 5,\n",
       "  6,   7,   8, 9, 10,\n",
       "  'a', 'b'\n",
       "]"
      ]
     },
     "execution_count": 51,
     "metadata": {},
     "output_type": "execute_result"
    }
   ],
   "source": [
    "// 원본을 변경하지 않는다\n",
    "arr3.concat('a', 'b');"
   ]
  },
  {
   "cell_type": "code",
   "execution_count": 52,
   "id": "6b922980",
   "metadata": {},
   "outputs": [
    {
     "data": {
      "text/plain": [
       "[\n",
       "  1, 2, 3, 4,  5,\n",
       "  6, 7, 8, 9, 10\n",
       "]"
      ]
     },
     "execution_count": 52,
     "metadata": {},
     "output_type": "execute_result"
    }
   ],
   "source": [
    "arr3"
   ]
  },
  {
   "cell_type": "code",
   "execution_count": 53,
   "id": "f1eb36d1",
   "metadata": {},
   "outputs": [
    {
     "data": {
      "text/plain": [
       "[\n",
       "  1,   2, 3, 4,  5,   6,\n",
       "  7,   8, 9, 10, 'a', 'b',\n",
       "  'c'\n",
       "]"
      ]
     },
     "execution_count": 53,
     "metadata": {},
     "output_type": "execute_result"
    }
   ],
   "source": [
    "// 배열을 인자로 넣는 경우: bracket 1개까지는 spread함\n",
    "arr3.concat(['a', 'b'], 'c');"
   ]
  },
  {
   "cell_type": "code",
   "execution_count": 54,
   "id": "caefe733",
   "metadata": {},
   "outputs": [
    {
     "data": {
      "text/plain": [
       "[\n",
       "  1, 2, 3, 4,  5,\n",
       "  6, 7, 8, 9, 10\n",
       "]"
      ]
     },
     "execution_count": 54,
     "metadata": {},
     "output_type": "execute_result"
    }
   ],
   "source": [
    "arr3;"
   ]
  },
  {
   "cell_type": "code",
   "execution_count": 55,
   "id": "b640dc22",
   "metadata": {},
   "outputs": [
    {
     "data": {
      "text/plain": [
       "[\n",
       "  1,\n",
       "  2,\n",
       "  3,\n",
       "  4,\n",
       "  5,\n",
       "  6,\n",
       "  7,\n",
       "  8,\n",
       "  9,\n",
       "  10,\n",
       "  [ 'AAA', 'BBB' ],\n",
       "  'AA',\n",
       "  'BB',\n",
       "  'A',\n",
       "  'B'\n",
       "]"
      ]
     },
     "execution_count": 55,
     "metadata": {},
     "output_type": "execute_result"
    }
   ],
   "source": [
    "// 배열을 인자로 넣는 경우: bracket 2개 이상인 경우 1개까지만 spread함\n",
    "arr3.concat([['AAA', 'BBB']], ['AA', 'BB'], 'A', 'B');"
   ]
  },
  {
   "cell_type": "code",
   "execution_count": 56,
   "id": "ca243242",
   "metadata": {},
   "outputs": [
    {
     "data": {
      "text/plain": [
       "[\n",
       "  1, 2, 3, 4,  5,\n",
       "  6, 7, 8, 9, 10\n",
       "]"
      ]
     },
     "execution_count": 56,
     "metadata": {},
     "output_type": "execute_result"
    }
   ],
   "source": [
    "arr3;"
   ]
  },
  {
   "cell_type": "markdown",
   "id": "9e1dce4c",
   "metadata": {},
   "source": [
    "### 문자열"
   ]
  },
  {
   "cell_type": "code",
   "execution_count": 57,
   "id": "fe7625b7",
   "metadata": {},
   "outputs": [
    {
     "data": {
      "text/plain": [
       "'가'"
      ]
     },
     "execution_count": 57,
     "metadata": {},
     "output_type": "execute_result"
    }
   ],
   "source": [
    "'가나다라'[0];"
   ]
  },
  {
   "cell_type": "code",
   "execution_count": 58,
   "id": "c4f5930f",
   "metadata": {},
   "outputs": [
    {
     "data": {
      "text/plain": [
       "4"
      ]
     },
     "execution_count": 58,
     "metadata": {},
     "output_type": "execute_result"
    }
   ],
   "source": [
    "'가나다라'.length;"
   ]
  },
  {
   "cell_type": "code",
   "execution_count": 59,
   "id": "840d8a2c",
   "metadata": {},
   "outputs": [
    {
     "data": {
      "text/plain": [
       "'라'"
      ]
     },
     "execution_count": 59,
     "metadata": {},
     "output_type": "execute_result"
    }
   ],
   "source": [
    "'가나다라'['가나다라'.length -1];"
   ]
  },
  {
   "cell_type": "code",
   "execution_count": 60,
   "id": "092b9806",
   "metadata": {},
   "outputs": [
    {
     "data": {
      "text/plain": [
       "true"
      ]
     },
     "execution_count": 60,
     "metadata": {},
     "output_type": "execute_result"
    }
   ],
   "source": [
    "'가나다라'.includes('다') === true"
   ]
  },
  {
   "cell_type": "code",
   "execution_count": 61,
   "id": "36e9c68c",
   "metadata": {},
   "outputs": [
    {
     "data": {
      "text/plain": [
       "true"
      ]
     },
     "execution_count": 61,
     "metadata": {},
     "output_type": "execute_result"
    }
   ],
   "source": [
    "'가나다라'.indexOf('라') === 3"
   ]
  },
  {
   "cell_type": "markdown",
   "id": "1cfad06f",
   "metadata": {},
   "source": [
    "### 문자열 to 배열: 문자열.split()"
   ]
  },
  {
   "cell_type": "code",
   "execution_count": 62,
   "id": "38efbb70",
   "metadata": {},
   "outputs": [
    {
     "data": {
      "text/plain": [
       "[ '가나다라' ]"
      ]
     },
     "execution_count": 62,
     "metadata": {},
     "output_type": "execute_result"
    }
   ],
   "source": [
    "// 잘못된 사용\n",
    "'가나다라'.split()"
   ]
  },
  {
   "cell_type": "code",
   "execution_count": 63,
   "id": "16559570",
   "metadata": {},
   "outputs": [
    {
     "data": {
      "text/plain": [
       "[ '가', '나', '다', '라' ]"
      ]
     },
     "execution_count": 63,
     "metadata": {},
     "output_type": "execute_result"
    }
   ],
   "source": [
    "// 옳은 사용법\n",
    "'가나다라'.split('')"
   ]
  },
  {
   "cell_type": "code",
   "execution_count": 64,
   "id": "a2f6e41b",
   "metadata": {},
   "outputs": [
    {
     "data": {
      "text/plain": [
       "[ '가', '나', '다', '라' ]"
      ]
     },
     "execution_count": 64,
     "metadata": {},
     "output_type": "execute_result"
    }
   ],
   "source": [
    "'가,나,다,라'.split(',')"
   ]
  },
  {
   "cell_type": "code",
   "execution_count": 65,
   "id": "06eb412f",
   "metadata": {},
   "outputs": [
    {
     "data": {
      "text/plain": [
       "[ '가', ' 나', ' 다', ' 라' ]"
      ]
     },
     "execution_count": 65,
     "metadata": {},
     "output_type": "execute_result"
    }
   ],
   "source": [
    "// 위와 비교\n",
    "'가, 나, 다, 라'.split(',')"
   ]
  },
  {
   "cell_type": "markdown",
   "id": "bf5150db",
   "metadata": {},
   "source": [
    "### 배열 to 문자열: 배열.join()"
   ]
  },
  {
   "cell_type": "code",
   "execution_count": 66,
   "id": "4bcb6f2e",
   "metadata": {},
   "outputs": [
    {
     "data": {
      "text/plain": [
       "'1,2,3'"
      ]
     },
     "execution_count": 66,
     "metadata": {},
     "output_type": "execute_result"
    }
   ],
   "source": [
    "// 잘못된 사용\n",
    "['1', '2', '3'].join()"
   ]
  },
  {
   "cell_type": "code",
   "execution_count": 67,
   "id": "f16c1933",
   "metadata": {},
   "outputs": [
    {
     "data": {
      "text/plain": [
       "'123'"
      ]
     },
     "execution_count": 67,
     "metadata": {},
     "output_type": "execute_result"
    }
   ],
   "source": [
    "// 옳은 사용법\n",
    "['1', '2', '3'].join('')"
   ]
  },
  {
   "cell_type": "code",
   "execution_count": 68,
   "id": "5fb85e73",
   "metadata": {},
   "outputs": [
    {
     "data": {
      "text/plain": [
       "'1,2,3'"
      ]
     },
     "execution_count": 68,
     "metadata": {},
     "output_type": "execute_result"
    }
   ],
   "source": [
    "// 잘못된 사용\n",
    "['1', '2', '3'].join(',')"
   ]
  },
  {
   "cell_type": "markdown",
   "id": "7fe97b06",
   "metadata": {},
   "source": [
    "#### 1분퀴즈"
   ]
  },
  {
   "cell_type": "code",
   "execution_count": 69,
   "id": "1344ad0d",
   "metadata": {},
   "outputs": [
    {
     "data": {
      "text/plain": [
       "[\n",
       "  '가', '라',\n",
       "  '라', '다',\n",
       "  '라', '마',\n",
       "  '라'\n",
       "]"
      ]
     },
     "execution_count": 69,
     "metadata": {},
     "output_type": "execute_result"
    }
   ],
   "source": [
    "// 다음에서 '라'를 모두 삭제하기\n",
    "const target = ['가', '라', '라', '다', '라', '마', '라'];\n",
    "var result = [...target];\t//  deep copy로 target을 복사한다(result 바뀌어도 target에 영향 없다)\n",
    "result;"
   ]
  },
  {
   "cell_type": "code",
   "execution_count": 73,
   "id": "1704d3fa",
   "metadata": {},
   "outputs": [
    {
     "data": {
      "text/plain": [
       "[ '가', '라', '다', '마' ]"
      ]
     },
     "execution_count": 73,
     "metadata": {},
     "output_type": "execute_result"
    }
   ],
   "source": [
    "result = [...target];\n",
    "\n",
    "// 1. 반복문 ==> 틀린 방법\n",
    "for(let i=0; i<target.length; i++) {\n",
    "\tif(result[i] === '라') {\n",
    "\t\tresult.splice(i, 1);\n",
    "\t}\n",
    "}\n",
    "result;"
   ]
  },
  {
   "cell_type": "code",
   "execution_count": 74,
   "id": "2a9eaad4",
   "metadata": {},
   "outputs": [
    {
     "data": {
      "text/plain": [
       "[ '가', '다', '마' ]"
      ]
     },
     "execution_count": 74,
     "metadata": {},
     "output_type": "execute_result"
    }
   ],
   "source": [
    "result = [...target];\n",
    "\n",
    "// 1-1. 반복문 ==> 옳은 방법\n",
    "for(let i=0; i<target.length; i++) {\n",
    "\tif(result[i] === '라') {\n",
    "\t\tresult.splice(i, 1);\n",
    "\t\ti--;\n",
    "\t}\n",
    "}\n",
    "result;"
   ]
  },
  {
   "cell_type": "code",
   "execution_count": 77,
   "id": "45e27263",
   "metadata": {},
   "outputs": [
    {
     "data": {
      "text/plain": [
       "[\n",
       "  '가',      undefined,\n",
       "  undefined, '다',\n",
       "  undefined, '마',\n",
       "  undefined\n",
       "]"
      ]
     },
     "execution_count": 77,
     "metadata": {},
     "output_type": "execute_result"
    }
   ],
   "source": [
    "result = [...target];\n",
    "\n",
    "// 2. map ==> 틀린 방법\n",
    "result.map( (v) => {\n",
    "\tif(v !== '라') {\n",
    "\t\treturn v;\n",
    "\t}\n",
    "})"
   ]
  },
  {
   "cell_type": "code",
   "execution_count": 78,
   "id": "5f3c4c5f",
   "metadata": {},
   "outputs": [
    {
     "data": {
      "text/plain": [
       "[ '가', '다', '마' ]"
      ]
     },
     "execution_count": 78,
     "metadata": {},
     "output_type": "execute_result"
    }
   ],
   "source": [
    "result = [...target];\n",
    "var result2 = [];\n",
    "\n",
    "// 2-1. map ==> 옳은 방법\n",
    "result.map( (v) => {\n",
    "\tif(v !== '라') {\n",
    "\t\tresult2.push(v);\n",
    "\t}\n",
    "});\n",
    "result2;"
   ]
  },
  {
   "cell_type": "code",
   "execution_count": 80,
   "id": "c12dc2d8",
   "metadata": {},
   "outputs": [
    {
     "data": {
      "text/plain": [
       "[ '가', '다', '마' ]"
      ]
     },
     "execution_count": 80,
     "metadata": {},
     "output_type": "execute_result"
    }
   ],
   "source": [
    "result = [...target];\n",
    "\n",
    "// 3. filter ==> 옳은 방법\n",
    "result.filter( (v) => {\n",
    "\tif(v !== '라') {\n",
    "\t\treturn v;\n",
    "\t}\n",
    "})"
   ]
  },
  {
   "cell_type": "code",
   "execution_count": null,
   "id": "86ebfbc1",
   "metadata": {},
   "outputs": [],
   "source": []
  },
  {
   "cell_type": "code",
   "execution_count": null,
   "id": "c93d4492",
   "metadata": {},
   "outputs": [],
   "source": []
  },
  {
   "cell_type": "code",
   "execution_count": null,
   "id": "53f65897",
   "metadata": {},
   "outputs": [],
   "source": []
  },
  {
   "cell_type": "code",
   "execution_count": null,
   "id": "3a1b6b55",
   "metadata": {},
   "outputs": [],
   "source": []
  },
  {
   "cell_type": "code",
   "execution_count": null,
   "id": "3818c988",
   "metadata": {},
   "outputs": [],
   "source": []
  },
  {
   "cell_type": "code",
   "execution_count": null,
   "id": "be97b3f7",
   "metadata": {},
   "outputs": [],
   "source": []
  },
  {
   "cell_type": "code",
   "execution_count": null,
   "id": "537dc86c",
   "metadata": {},
   "outputs": [],
   "source": []
  },
  {
   "cell_type": "code",
   "execution_count": null,
   "id": "c7ced358",
   "metadata": {},
   "outputs": [],
   "source": []
  },
  {
   "cell_type": "code",
   "execution_count": null,
   "id": "f0ac812a",
   "metadata": {},
   "outputs": [],
   "source": []
  },
  {
   "cell_type": "code",
   "execution_count": null,
   "id": "a108c139",
   "metadata": {},
   "outputs": [],
   "source": []
  },
  {
   "cell_type": "code",
   "execution_count": null,
   "id": "66ec3310",
   "metadata": {},
   "outputs": [],
   "source": []
  },
  {
   "cell_type": "code",
   "execution_count": null,
   "id": "0da5226b",
   "metadata": {},
   "outputs": [],
   "source": []
  },
  {
   "cell_type": "code",
   "execution_count": null,
   "id": "4625a8d7",
   "metadata": {},
   "outputs": [],
   "source": []
  },
  {
   "cell_type": "code",
   "execution_count": null,
   "id": "f30947bb",
   "metadata": {},
   "outputs": [],
   "source": []
  },
  {
   "cell_type": "code",
   "execution_count": null,
   "id": "f34e6b2f",
   "metadata": {},
   "outputs": [],
   "source": []
  },
  {
   "cell_type": "code",
   "execution_count": null,
   "id": "f8bb6ef2",
   "metadata": {},
   "outputs": [],
   "source": []
  },
  {
   "cell_type": "code",
   "execution_count": null,
   "id": "d0cc3a38",
   "metadata": {},
   "outputs": [],
   "source": []
  },
  {
   "cell_type": "code",
   "execution_count": null,
   "id": "3b440ba3",
   "metadata": {},
   "outputs": [],
   "source": []
  },
  {
   "cell_type": "code",
   "execution_count": null,
   "id": "8577c95a",
   "metadata": {},
   "outputs": [],
   "source": []
  },
  {
   "cell_type": "code",
   "execution_count": null,
   "id": "203e00c7",
   "metadata": {},
   "outputs": [],
   "source": []
  },
  {
   "cell_type": "code",
   "execution_count": null,
   "id": "12feb4d4",
   "metadata": {},
   "outputs": [],
   "source": []
  },
  {
   "cell_type": "code",
   "execution_count": null,
   "id": "7e5c197c",
   "metadata": {},
   "outputs": [],
   "source": []
  },
  {
   "cell_type": "code",
   "execution_count": null,
   "id": "b9129896",
   "metadata": {},
   "outputs": [],
   "source": []
  },
  {
   "cell_type": "code",
   "execution_count": null,
   "id": "fe98396a",
   "metadata": {},
   "outputs": [],
   "source": []
  },
  {
   "cell_type": "code",
   "execution_count": null,
   "id": "07b26b1b",
   "metadata": {},
   "outputs": [],
   "source": []
  },
  {
   "cell_type": "code",
   "execution_count": null,
   "id": "e2f79710",
   "metadata": {},
   "outputs": [],
   "source": []
  },
  {
   "cell_type": "code",
   "execution_count": null,
   "id": "2a2072f5",
   "metadata": {},
   "outputs": [],
   "source": []
  },
  {
   "cell_type": "code",
   "execution_count": null,
   "id": "ad84e6b0",
   "metadata": {},
   "outputs": [],
   "source": []
  },
  {
   "cell_type": "code",
   "execution_count": null,
   "id": "aad3c073",
   "metadata": {},
   "outputs": [],
   "source": []
  },
  {
   "cell_type": "code",
   "execution_count": null,
   "id": "e54a54d7",
   "metadata": {},
   "outputs": [],
   "source": []
  }
 ],
 "metadata": {
  "kernelspec": {
   "display_name": "JavaScript (Node.js)",
   "language": "javascript",
   "name": "javascript"
  },
  "language_info": {
   "file_extension": ".js",
   "mimetype": "application/javascript",
   "name": "javascript",
   "version": "20.11.1"
  }
 },
 "nbformat": 4,
 "nbformat_minor": 5
}
