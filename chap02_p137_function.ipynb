{
 "cells": [
  {
   "cell_type": "markdown",
   "metadata": {},
   "source": [
    "### 함수"
   ]
  },
  {
   "cell_type": "code",
   "execution_count": 1,
   "metadata": {},
   "outputs": [],
   "source": [
    "function a(w, x, y, z) {\n",
    "\tconsole.log(w, x, y, z);\n",
    "\tconsole.log(arguments);\n",
    "}"
   ]
  },
  {
   "cell_type": "code",
   "execution_count": 2,
   "metadata": {},
   "outputs": [
    {
     "name": "stdout",
     "output_type": "stream",
     "text": [
      "Hello Parameter Arguments undefined\n",
      "[Arguments] { '0': 'Hello', '1': 'Parameter', '2': 'Arguments' }\n"
     ]
    }
   ],
   "source": [
    "//  파라미터 개수보다 적은 인수로 호출 ==> 남은 파라미터에 undefined 대입\n",
    "a(\"Hello\", \"Parameter\", \"Arguments\");"
   ]
  },
  {
   "cell_type": "code",
   "execution_count": 3,
   "metadata": {},
   "outputs": [
    {
     "name": "stdout",
     "output_type": "stream",
     "text": [
      "Hello Parameter Arguments GOOD\n",
      "[Arguments] {\n",
      "  '0': 'Hello',\n",
      "  '1': 'Parameter',\n",
      "  '2': 'Arguments',\n",
      "  '3': 'GOOD',\n",
      "  '4': 'BAD'\n",
      "}\n"
     ]
    }
   ],
   "source": [
    "//  파라미터 개수보다 많은 인수로 호출 ==> 호출시 남은 인수는 버려짐\n",
    "a(\"Hello\", \"Parameter\", \"Arguments\", \"GOOD\", \"BAD\");"
   ]
  },
  {
   "cell_type": "code",
   "execution_count": 4,
   "metadata": {},
   "outputs": [],
   "source": [
    "function b(w, x, y, z) {\n",
    "\tconsole.log(arguments);\n",
    "\tfor(let i=0; i<arguments.length; i++) {\n",
    "\t\tconsole.log(arguments[i]);\n",
    "\t}\n",
    "\tconsole.log(typeof arguments);\n",
    "}"
   ]
  },
  {
   "cell_type": "code",
   "execution_count": 5,
   "metadata": {},
   "outputs": [
    {
     "name": "stdout",
     "output_type": "stream",
     "text": [
      "[Arguments] { '0': 'A', '1': 'B', '2': 'C', '3': 'D', '4': 'E' }\n",
      "A\n",
      "B\n",
      "C\n",
      "D\n",
      "E\n",
      "object\n"
     ]
    }
   ],
   "source": [
    "b(\"A\", \"B\", \"C\", \"D\", \"E\");"
   ]
  },
  {
   "cell_type": "code",
   "execution_count": 6,
   "metadata": {},
   "outputs": [],
   "source": [
    "// 함수를 만들 때 주의할 점: 함수 내에서 (가능하면) 인수를 괄호로 묶어주어야 한다\n",
    "function mul1(x, y, z) {\n",
    "\treturn x * y * z;\n",
    "}\n",
    "\n",
    "function mul2(x, y, z) {\n",
    "\treturn (x) * (y) * (z);\n",
    "}"
   ]
  },
  {
   "cell_type": "code",
   "execution_count": 7,
   "metadata": {},
   "outputs": [
    {
     "data": {
      "text/plain": [
       "105"
      ]
     },
     "execution_count": 7,
     "metadata": {},
     "output_type": "execute_result"
    }
   ],
   "source": [
    "mul1(1+2, 3+4, 5);"
   ]
  },
  {
   "cell_type": "code",
   "execution_count": 8,
   "metadata": {},
   "outputs": [
    {
     "data": {
      "text/plain": [
       "105"
      ]
     },
     "execution_count": 8,
     "metadata": {},
     "output_type": "execute_result"
    }
   ],
   "source": [
    "mul2(1+2, 3+4, 5);"
   ]
  },
  {
   "cell_type": "code",
   "execution_count": 9,
   "metadata": {},
   "outputs": [],
   "source": [
    "const mul3 = (x, y, z) => (x) * (y) * z;"
   ]
  },
  {
   "cell_type": "code",
   "execution_count": 10,
   "metadata": {},
   "outputs": [
    {
     "data": {
      "text/plain": [
       "105"
      ]
     },
     "execution_count": 10,
     "metadata": {},
     "output_type": "execute_result"
    }
   ],
   "source": [
    "mul3(1+2, 3+4, 5);"
   ]
  }
 ],
 "metadata": {
  "kernelspec": {
   "display_name": "JavaScript (Node.js)",
   "language": "javascript",
   "name": "javascript"
  },
  "language_info": {
   "file_extension": ".js",
   "mimetype": "application/javascript",
   "name": "javascript",
   "version": "20.11.1"
  }
 },
 "nbformat": 4,
 "nbformat_minor": 2
}
